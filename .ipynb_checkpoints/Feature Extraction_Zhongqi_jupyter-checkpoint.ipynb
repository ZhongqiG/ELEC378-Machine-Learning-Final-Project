{
 "cells": [
  {
   "cell_type": "code",
   "execution_count": 1,
   "metadata": {
    "executionInfo": {
     "elapsed": 8696,
     "status": "ok",
     "timestamp": 1682652367711,
     "user": {
      "displayName": "Zhongqi Gao",
      "userId": "11577090512157430756"
     },
     "user_tz": 300
    },
    "id": "a-OF3nfHOSmz"
   },
   "outputs": [
    {
     "ename": "ModuleNotFoundError",
     "evalue": "No module named 'librosa'",
     "output_type": "error",
     "traceback": [
      "\u001b[1;31m---------------------------------------------------------------------------\u001b[0m",
      "\u001b[1;31mModuleNotFoundError\u001b[0m                       Traceback (most recent call last)",
      "Cell \u001b[1;32mIn[1], line 11\u001b[0m\n\u001b[0;32m      9\u001b[0m \u001b[38;5;28;01mimport\u001b[39;00m \u001b[38;5;21;01mrandom\u001b[39;00m\n\u001b[0;32m     10\u001b[0m \u001b[38;5;28;01mfrom\u001b[39;00m \u001b[38;5;21;01msklearn\u001b[39;00m \u001b[38;5;28;01mimport\u001b[39;00m svm\n\u001b[1;32m---> 11\u001b[0m \u001b[38;5;28;01mimport\u001b[39;00m \u001b[38;5;21;01mlibrosa\u001b[39;00m\n\u001b[0;32m     12\u001b[0m \u001b[38;5;28;01mfrom\u001b[39;00m \u001b[38;5;21;01msklearn\u001b[39;00m\u001b[38;5;21;01m.\u001b[39;00m\u001b[38;5;21;01mmodel_selection\u001b[39;00m \u001b[38;5;28;01mimport\u001b[39;00m train_test_split\n\u001b[0;32m     13\u001b[0m \u001b[38;5;28;01mfrom\u001b[39;00m \u001b[38;5;21;01msklearn\u001b[39;00m\u001b[38;5;21;01m.\u001b[39;00m\u001b[38;5;21;01mmetrics\u001b[39;00m \u001b[38;5;28;01mimport\u001b[39;00m accuracy_score\n",
      "\u001b[1;31mModuleNotFoundError\u001b[0m: No module named 'librosa'"
     ]
    }
   ],
   "source": [
    "import pandas as pd\n",
    "import numpy as np\n",
    "import seaborn as sns\n",
    "import matplotlib.pyplot as plt\n",
    "import os\n",
    "from scipy.io import wavfile\n",
    "import re\n",
    "import seaborn as sns\n",
    "import random\n",
    "from sklearn import svm\n",
    "import librosa\n",
    "from sklearn.model_selection import train_test_split\n",
    "from sklearn.metrics import accuracy_score\n",
    "import re\n",
    "import tensorflow as tf\n",
    "from tensorflow.keras.utils import to_categorical\n",
    "from keras.utils.np_utils import to_categorical\n"
   ]
  },
  {
   "cell_type": "code",
   "execution_count": null,
   "metadata": {},
   "outputs": [],
   "source": [
    "pip install librosa"
   ]
  },
  {
   "cell_type": "code",
   "execution_count": null,
   "metadata": {
    "executionInfo": {
     "elapsed": 6,
     "status": "ok",
     "timestamp": 1682652367711,
     "user": {
      "displayName": "Zhongqi Gao",
      "userId": "11577090512157430756"
     },
     "user_tz": 300
    },
    "id": "HSN_P0dCypm1"
   },
   "outputs": [],
   "source": [
    "# test data and test data directory \n",
    "\n",
    "data_dir = \"C:/Users/gaozh/Downloads/ELEC378_FinalProject/data/data\"\n",
    "\n",
    "test_dir = \"C:/Users/gaozh/Downloads/ELEC378_FinalProject/test/test\"\n",
    "\n"
   ]
  },
  {
   "cell_type": "markdown",
   "metadata": {
    "id": "wMRWN6ilHChk"
   },
   "source": [
    "Containis function for feature extraction. Takes a directory and a boolean indicating wheather to split the data or not. For cross validation use the data directory (labeled data) and split = true. Run all the way to the cell that prints out accuracy score. For testing model on the unlabled data in test folder (those that are named sample001, etc), run the cells below the accuracy score cell will give you a .csv file ready for submission on kaggle. "
   ]
  },
  {
   "cell_type": "code",
   "execution_count": 2,
   "metadata": {
    "executionInfo": {
     "elapsed": 4,
     "status": "ok",
     "timestamp": 1682655847841,
     "user": {
      "displayName": "Zhongqi Gao",
      "userId": "11577090512157430756"
     },
     "user_tz": 300
    },
    "id": "Msvv8n4hfk2h"
   },
   "outputs": [],
   "source": [
    "#@title Feature Extraction func\n",
    "def FeatureExtraction (dir, split=True): \n",
    " \n",
    "  '''\n",
    "  Function for feature extraction. Change this section to change what features we are using. \n",
    "\n",
    "  input: a directory of the data. Will split to test and train, a boolean: if split is true, will extract features and labels and store them in 4 arrays:\n",
    "  train_data, train_label, test_data, test_label. if split is false, function will extract all data provided in the directory and output 2 arrays with values 2 arrays that are empty. \n",
    "  Use labeled data and split = false will give you  (train_data, train_label); use unlabled data and split = false will give you (test_data, test_label).\n",
    "\n",
    "  output: data matrix and lables for both test and train. \n",
    "\n",
    "  '''\n",
    "  audio_files = [f for f in os.listdir(dir) if f.endswith(\".wav\")]\n",
    "  \n",
    "  train_files, test_files = train_test_split(audio_files, test_size=0.2)\n",
    "\n",
    "  train_data = []\n",
    "  train_label= []\n",
    "  test_data = []\n",
    "  test_label = []  \n",
    "  \n",
    "  \n",
    "  for file_name in audio_files:\n",
    "\n",
    "      # Load audio\n",
    "      file_path = os.path.join(dir, file_name)\n",
    "      raw_audio, sr = librosa.load(file_path)\n",
    "\n",
    "      # if audio is too short, append zeros after it. \n",
    "      if np.shape(raw_audio)[0] < 80000: \n",
    "          padded_audio = np.pad(raw_audio, [(0, 80000 - np.shape(raw_audio)[0])], mode='constant')\n",
    "      else:\n",
    "          padded_audio = raw_audio\n",
    "\n",
    "      # now slice so that we guarantee that each array has the same length\n",
    "      audio = padded_audio[20000:80000]\n",
    "\n",
    "      # feature extraction\n",
    "\n",
    "      mfccs = librosa.feature.mfcc(y=audio, sr = 22050, n_mfcc = 20)\n",
    "      delta_mfccs = librosa.feature.delta(mfccs)\n",
    "      delta2_mfccs = librosa.feature.delta(mfccs, order=2)\n",
    "\n",
    "      #chroma_stft = librosa.feature.chroma_stft(y = audio, sr=22050)\n",
    "      mel_spec = librosa.feature.melspectrogram(y = audio, sr = 22050, n_mels = 60)\n",
    "      #gfccs = librosa.feature.gfcc(y, sr=sr, n_mfcc=20)\n",
    "\n",
    "      # Concatenate\n",
    "      features = np.concatenate([mfccs, delta_mfccs, delta2_mfccs, mel_spec], axis = 0)\n",
    "      #features = mfccs\n",
    "\n",
    "      label_map = {'angry': 0, 'calm': 1, 'disgust': 2, 'fearful': 3, 'happy': 4, 'neutral': 5, 'sad': 6, 'surprised': 7}\n",
    "      label = file_name.split(\".\")[0]\n",
    "\n",
    "      #unlabeled data\n",
    "      if label[:-3] == \"sample\":\n",
    "        test_data.append(features)\n",
    "        test_label.append(label)\n",
    "\n",
    "      #labeled data\n",
    "      else:\n",
    "        if split: \n",
    "          if file_name in train_files:\n",
    "            train_data.append(features)\n",
    "            label = re.sub('[^a-z]', \"\", label)\n",
    "            train_label.append(label_map[label])\n",
    "\n",
    "          elif file_name in test_files: \n",
    "            test_data.append(features)\n",
    "            label = re.sub('[^a-z]', \"\", label)\n",
    "            test_label.append(label_map[label])\n",
    "\n",
    "        elif not split: \n",
    "          \n",
    "          train_data.append(features)\n",
    "          label = re.sub('[^a-z]', \"\", label)\n",
    "          train_label.append(label_map[label])\n",
    "  \n",
    "\n",
    "  train_data = np.array(train_data)\n",
    "  train_label = np.array(train_label)\n",
    "  test_data = np.array(test_data)\n",
    "  test_label = np.array(test_label) \n",
    "\n",
    "  print(\"mfccs size is:\", np.shape(mfccs))\n",
    "  print(\"mel spectrogram is\", np.shape(mel_spec))\n",
    "  return train_data, train_label, test_data, test_label\n",
    "\n"
   ]
  },
  {
   "cell_type": "code",
   "execution_count": 3,
   "metadata": {
    "colab": {
     "base_uri": "https://localhost:8080/"
    },
    "executionInfo": {
     "elapsed": 36689,
     "status": "ok",
     "timestamp": 1682656450422,
     "user": {
      "displayName": "Zhongqi Gao",
      "userId": "11577090512157430756"
     },
     "user_tz": 300
    },
    "id": "VzAiCJ7FqnpP",
    "outputId": "262b4507-af7c-4ee1-8cbb-438f5e2236c6"
   },
   "outputs": [
    {
     "ename": "NameError",
     "evalue": "name 'data_dir' is not defined",
     "output_type": "error",
     "traceback": [
      "\u001b[1;31m---------------------------------------------------------------------------\u001b[0m",
      "\u001b[1;31mNameError\u001b[0m                                 Traceback (most recent call last)",
      "Cell \u001b[1;32mIn[3], line 1\u001b[0m\n\u001b[1;32m----> 1\u001b[0m X_train, y_train, X_test, y_test \u001b[38;5;241m=\u001b[39m FeatureExtraction(\u001b[43mdata_dir\u001b[49m, split \u001b[38;5;241m=\u001b[39m \u001b[38;5;28;01mTrue\u001b[39;00m)\n\u001b[0;32m      2\u001b[0m y_train_ohe \u001b[38;5;241m=\u001b[39m to_categorical(y_train)\n\u001b[0;32m      3\u001b[0m y_test_ohe \u001b[38;5;241m=\u001b[39m to_categorical(y_test)\n",
      "\u001b[1;31mNameError\u001b[0m: name 'data_dir' is not defined"
     ]
    }
   ],
   "source": [
    "X_train, y_train, X_test, y_test = FeatureExtraction(data_dir, split = True)\n",
    "y_train_ohe = to_categorical(y_train)\n",
    "y_test_ohe = to_categorical(y_test)\n"
   ]
  },
  {
   "cell_type": "code",
   "execution_count": null,
   "metadata": {
    "cellView": "form",
    "id": "Oezh9Evx646j"
   },
   "outputs": [],
   "source": [
    "#@title SVM\n",
    "from sklearn.pipeline import make_pipeline\n",
    "from sklearn.preprocessing import StandardScaler\n",
    "from sklearn.svm import SVC\n",
    "clf = make_pipeline(StandardScaler(), SVC(kernel = \"linear\"))\n",
    "clf.fit(X_train, y_train)\n",
    "\n",
    "y_predicted= clf.predict(X_test)\n",
    "\n",
    "accuracy = accuracy_score(y_test, y_predicted)\n",
    "\n",
    "print(accuracy)\n"
   ]
  },
  {
   "cell_type": "code",
   "execution_count": 52,
   "metadata": {
    "executionInfo": {
     "elapsed": 8,
     "status": "ok",
     "timestamp": 1682653834901,
     "user": {
      "displayName": "Zhongqi Gao",
      "userId": "11577090512157430756"
     },
     "user_tz": 300
    },
    "id": "g_oeWmPAuIDX"
   },
   "outputs": [],
   "source": [
    "import keras\n",
    "from keras.layers import Conv1D, Embedding, Dropout, MaxPooling1D, GlobalMaxPooling1D, Dense\n",
    "from keras.optimizers import Adam\n",
    "from keras import Model\n",
    "from keras.callbacks import EarlyStopping"
   ]
  },
  {
   "cell_type": "code",
   "execution_count": 81,
   "metadata": {
    "executionInfo": {
     "elapsed": 30,
     "status": "ok",
     "timestamp": 1682656450423,
     "user": {
      "displayName": "Zhongqi Gao",
      "userId": "11577090512157430756"
     },
     "user_tz": 300
    },
    "id": "ixOqNtpMZNDF"
   },
   "outputs": [],
   "source": [
    "num_classes = 8\n",
    "def build_cnn(input_shape, num_classes):\n",
    "    model = tf.keras.Sequential()\n",
    "    \n",
    "    # Convolutional layers\n",
    "    model.add(tf.keras.layers.Conv2D(64, (3, 3), padding='valid', input_shape=input_shape))\n",
    "    model.add(tf.keras.layers.BatchNormalization())\n",
    "    model.add(tf.keras.layers.Activation('relu'))\n",
    "    model.add(tf.keras.layers.MaxPooling2D(pool_size=(2, 2)))\n",
    "\n",
    "    model.add(tf.keras.layers.Conv2D(128, (3, 3), padding='valid'))\n",
    "    model.add(tf.keras.layers.BatchNormalization())\n",
    "    model.add(tf.keras.layers.Activation('relu'))\n",
    "    model.add(tf.keras.layers.MaxPooling2D(pool_size=(2, 2)))\n",
    "\n",
    "    model.add(tf.keras.layers.Conv2D(256, (3, 3), padding='valid'))\n",
    "    model.add(tf.keras.layers.BatchNormalization())\n",
    "    model.add(tf.keras.layers.Activation('relu'))\n",
    "    model.add(tf.keras.layers.Dropout(0.1))\n",
    "\n",
    "    # Dense layers\n",
    "    model.add(tf.keras.layers.Flatten())\n",
    "    model.add(tf.keras.layers.Dense(256))\n",
    "    model.add(tf.keras.layers.BatchNormalization())\n",
    "    model.add(tf.keras.layers.Activation('relu'))\n",
    "    model.add(tf.keras.layers.Dropout(0.3))\n",
    "    \n",
    "    model.add(tf.keras.layers.Dense(num_classes))\n",
    "    model.add(tf.keras.layers.Activation('softmax'))\n",
    "    \n",
    "    \n",
    "    return model"
   ]
  },
  {
   "cell_type": "code",
   "execution_count": 83,
   "metadata": {
    "colab": {
     "base_uri": "https://localhost:8080/",
     "height": 1000
    },
    "executionInfo": {
     "elapsed": 73383,
     "status": "ok",
     "timestamp": 1682656643142,
     "user": {
      "displayName": "Zhongqi Gao",
      "userId": "11577090512157430756"
     },
     "user_tz": 300
    },
    "id": "t1YjWExXuf7r",
    "outputId": "d6d6dae3-5977-4801-8f8a-1e6c97282034"
   },
   "outputs": [
    {
     "name": "stdout",
     "output_type": "stream",
     "text": [
      "Epoch 1/30\n",
      "30/30 [==============================] - 7s 97ms/step - loss: 1.8243 - accuracy: 0.3881 - val_loss: 7.3891 - val_accuracy: 0.2544\n",
      "Epoch 2/30\n",
      "30/30 [==============================] - 2s 76ms/step - loss: 1.2085 - accuracy: 0.5732 - val_loss: 2.2858 - val_accuracy: 0.3964\n",
      "Epoch 3/30\n",
      "30/30 [==============================] - 2s 77ms/step - loss: 0.8313 - accuracy: 0.7186 - val_loss: 2.0080 - val_accuracy: 0.3136\n",
      "Epoch 4/30\n",
      "30/30 [==============================] - 2s 72ms/step - loss: 0.4963 - accuracy: 0.8598 - val_loss: 2.1550 - val_accuracy: 0.4024\n",
      "Epoch 5/30\n",
      "30/30 [==============================] - 2s 77ms/step - loss: 0.3091 - accuracy: 0.9174 - val_loss: 1.9879 - val_accuracy: 0.3846\n",
      "Epoch 6/30\n",
      "30/30 [==============================] - 2s 74ms/step - loss: 0.2097 - accuracy: 0.9529 - val_loss: 3.3511 - val_accuracy: 0.2604\n",
      "Epoch 7/30\n",
      "30/30 [==============================] - 2s 72ms/step - loss: 0.1154 - accuracy: 0.9759 - val_loss: 2.1870 - val_accuracy: 0.3905\n",
      "Epoch 8/30\n",
      "30/30 [==============================] - 2s 76ms/step - loss: 0.0820 - accuracy: 0.9833 - val_loss: 2.2792 - val_accuracy: 0.4556\n",
      "Epoch 9/30\n",
      "30/30 [==============================] - 2s 81ms/step - loss: 0.0616 - accuracy: 0.9885 - val_loss: 1.3279 - val_accuracy: 0.5976\n",
      "Epoch 10/30\n",
      "30/30 [==============================] - 2s 73ms/step - loss: 0.0475 - accuracy: 0.9895 - val_loss: 2.6652 - val_accuracy: 0.1598\n",
      "Epoch 11/30\n",
      "30/30 [==============================] - 2s 73ms/step - loss: 0.0263 - accuracy: 1.0000 - val_loss: 1.4520 - val_accuracy: 0.5740\n",
      "Epoch 12/30\n",
      "30/30 [==============================] - 2s 74ms/step - loss: 0.0132 - accuracy: 1.0000 - val_loss: 1.5438 - val_accuracy: 0.5621\n",
      "Epoch 13/30\n",
      "30/30 [==============================] - 2s 72ms/step - loss: 0.0096 - accuracy: 1.0000 - val_loss: 1.6581 - val_accuracy: 0.4911\n",
      "Epoch 14/30\n",
      "30/30 [==============================] - 2s 70ms/step - loss: 0.0063 - accuracy: 1.0000 - val_loss: 1.4861 - val_accuracy: 0.5444\n",
      "Epoch 15/30\n",
      "30/30 [==============================] - 2s 79ms/step - loss: 0.0060 - accuracy: 1.0000 - val_loss: 1.3841 - val_accuracy: 0.5858\n",
      "Epoch 16/30\n",
      "30/30 [==============================] - 3s 98ms/step - loss: 0.0038 - accuracy: 1.0000 - val_loss: 1.2508 - val_accuracy: 0.6331\n",
      "Epoch 17/30\n",
      "30/30 [==============================] - 2s 79ms/step - loss: 0.0030 - accuracy: 1.0000 - val_loss: 1.1923 - val_accuracy: 0.6391\n",
      "Epoch 18/30\n",
      "30/30 [==============================] - 2s 75ms/step - loss: 0.0030 - accuracy: 1.0000 - val_loss: 1.2323 - val_accuracy: 0.6450\n",
      "Epoch 19/30\n",
      "30/30 [==============================] - 2s 79ms/step - loss: 0.0028 - accuracy: 1.0000 - val_loss: 1.0961 - val_accuracy: 0.6746\n",
      "Epoch 20/30\n",
      "30/30 [==============================] - 2s 70ms/step - loss: 0.0022 - accuracy: 1.0000 - val_loss: 1.1008 - val_accuracy: 0.6805\n",
      "Epoch 21/30\n",
      "30/30 [==============================] - 2s 71ms/step - loss: 0.0021 - accuracy: 1.0000 - val_loss: 1.1271 - val_accuracy: 0.6982\n",
      "Epoch 22/30\n",
      "30/30 [==============================] - 2s 77ms/step - loss: 0.0023 - accuracy: 1.0000 - val_loss: 1.0652 - val_accuracy: 0.6864\n",
      "Epoch 23/30\n",
      "30/30 [==============================] - 2s 78ms/step - loss: 0.0021 - accuracy: 1.0000 - val_loss: 0.9994 - val_accuracy: 0.7101\n",
      "Epoch 24/30\n",
      "30/30 [==============================] - 2s 84ms/step - loss: 0.0018 - accuracy: 1.0000 - val_loss: 0.9831 - val_accuracy: 0.7219\n",
      "Epoch 25/30\n",
      "30/30 [==============================] - 2s 72ms/step - loss: 0.0020 - accuracy: 1.0000 - val_loss: 1.1114 - val_accuracy: 0.6982\n",
      "Epoch 26/30\n",
      "30/30 [==============================] - 2s 73ms/step - loss: 0.0019 - accuracy: 1.0000 - val_loss: 0.9933 - val_accuracy: 0.7041\n",
      "Epoch 27/30\n",
      "30/30 [==============================] - 2s 73ms/step - loss: 0.0014 - accuracy: 1.0000 - val_loss: 1.0353 - val_accuracy: 0.7041\n",
      "Epoch 28/30\n",
      "30/30 [==============================] - 2s 73ms/step - loss: 0.0013 - accuracy: 1.0000 - val_loss: 0.9939 - val_accuracy: 0.7101\n",
      "Epoch 29/30\n",
      "30/30 [==============================] - 2s 70ms/step - loss: 0.0010 - accuracy: 1.0000 - val_loss: 1.0487 - val_accuracy: 0.6805\n",
      "Epoch 30/30\n",
      "30/30 [==============================] - 2s 74ms/step - loss: 8.8920e-04 - accuracy: 1.0000 - val_loss: 1.0475 - val_accuracy: 0.7101\n"
     ]
    },
    {
     "data": {
      "image/png": "[encoded data removed]",
      "text/plain": [
       "<Figure size 640x480 with 1 Axes>"
      ]
     },
     "metadata": {},
     "output_type": "display_data"
    }
   ],
   "source": [
    "#num frames is number of wav files\n",
    "es = EarlyStopping(monitor='val_loss',\n",
    "                   mode='min',\n",
    "                   restore_best_weights=True,\n",
    "                   patience=10,\n",
    "                   verbose=1)\n",
    "\n",
    "#num frames is number of wav files\n",
    "model = build_cnn((X_train.shape[1], X_train.shape[2], 1), num_classes)\n",
    "model.compile(optimizer='adam', loss='categorical_crossentropy', metrics=['accuracy'])\n",
    "history = model.fit(X_train, y_train_ohe, batch_size=32, epochs=30, validation_data=(X_test, y_test_ohe), callbacks=[es])\n",
    "\n",
    "\n",
    "# plot\n",
    "plt.plot(history.history['loss'])\n",
    "plt.plot(history.history['val_loss'])\n",
    "plt.title('Training and validation error')\n",
    "plt.xlabel('Epoch')\n",
    "plt.ylabel('Error')\n",
    "plt.legend(['Training', 'Validation'], loc='upper right')\n",
    "plt.show()"
   ]
  },
  {
   "cell_type": "code",
   "execution_count": 56,
   "metadata": {
    "colab": {
     "base_uri": "https://localhost:8080/"
    },
    "executionInfo": {
     "elapsed": 39558,
     "status": "ok",
     "timestamp": 1682653961774,
     "user": {
      "displayName": "Zhongqi Gao",
      "userId": "11577090512157430756"
     },
     "user_tz": 300
    },
    "id": "ViCeGe6zyu2i",
    "outputId": "6f72412a-cb27-442e-b05b-a38ecec9296f"
   },
   "outputs": [
    {
     "name": "stdout",
     "output_type": "stream",
     "text": [
      "mfccs size is: (25, 118)\n",
      "mfccs size is: (25, 118)\n"
     ]
    }
   ],
   "source": [
    "# extract all labeled data\n",
    "X_train, y_train, dummy1, dummy2 = FeatureExtraction(data_dir, split = False)\n",
    "# extract all unlabeled data\n",
    "dummy1, dummy2, X_test, y_test = FeatureExtraction(test_dir, split = False)\n",
    "y_train_ohe = to_categorical(y_train)\n"
   ]
  },
  {
   "cell_type": "code",
   "execution_count": 57,
   "metadata": {
    "colab": {
     "base_uri": "https://localhost:8080/"
    },
    "executionInfo": {
     "elapsed": 38418,
     "status": "ok",
     "timestamp": 1682654010609,
     "user": {
      "displayName": "Zhongqi Gao",
      "userId": "11577090512157430756"
     },
     "user_tz": 300
    },
    "id": "L7Gjd7waqXsJ",
    "outputId": "f64b2be3-3404-49b3-c6be-a60f3a08b8a3"
   },
   "outputs": [
    {
     "name": "stdout",
     "output_type": "stream",
     "text": [
      "Epoch 1/25\n",
      "36/36 [==============================] - 6s 42ms/step - loss: 1.7523 - accuracy: 0.3698\n",
      "Epoch 2/25\n",
      "36/36 [==============================] - 1s 34ms/step - loss: 1.2902 - accuracy: 0.5147\n",
      "Epoch 3/25\n",
      "36/36 [==============================] - 1s 34ms/step - loss: 1.0472 - accuracy: 0.6231\n",
      "Epoch 4/25\n",
      "36/36 [==============================] - 1s 35ms/step - loss: 0.8387 - accuracy: 0.7058\n",
      "Epoch 5/25\n",
      "36/36 [==============================] - 1s 35ms/step - loss: 0.7090 - accuracy: 0.7662\n",
      "Epoch 6/25\n",
      "36/36 [==============================] - 1s 35ms/step - loss: 0.6346 - accuracy: 0.7707\n",
      "Epoch 7/25\n",
      "36/36 [==============================] - 1s 35ms/step - loss: 0.4499 - accuracy: 0.8684\n",
      "Epoch 8/25\n",
      "36/36 [==============================] - 1s 37ms/step - loss: 0.3839 - accuracy: 0.8764\n",
      "Epoch 9/25\n",
      "36/36 [==============================] - 1s 37ms/step - loss: 0.3051 - accuracy: 0.9129\n",
      "Epoch 10/25\n",
      "36/36 [==============================] - 1s 37ms/step - loss: 0.2593 - accuracy: 0.9298\n",
      "Epoch 11/25\n",
      "36/36 [==============================] - 1s 35ms/step - loss: 0.3333 - accuracy: 0.9049\n",
      "Epoch 12/25\n",
      "36/36 [==============================] - 1s 35ms/step - loss: 0.2114 - accuracy: 0.9431\n",
      "Epoch 13/25\n",
      "36/36 [==============================] - 1s 35ms/step - loss: 0.1412 - accuracy: 0.9671\n",
      "Epoch 14/25\n",
      "36/36 [==============================] - 1s 35ms/step - loss: 0.1045 - accuracy: 0.9849\n",
      "Epoch 15/25\n",
      "36/36 [==============================] - 1s 35ms/step - loss: 0.0714 - accuracy: 0.9893\n",
      "Epoch 16/25\n",
      "36/36 [==============================] - 1s 35ms/step - loss: 0.1313 - accuracy: 0.9698\n",
      "Epoch 17/25\n",
      "36/36 [==============================] - 1s 35ms/step - loss: 0.0753 - accuracy: 0.9884\n",
      "Epoch 18/25\n",
      "36/36 [==============================] - 1s 36ms/step - loss: 0.0616 - accuracy: 0.9920\n",
      "Epoch 19/25\n",
      "36/36 [==============================] - 1s 36ms/step - loss: 0.1642 - accuracy: 0.9449\n",
      "Epoch 20/25\n",
      "36/36 [==============================] - 1s 36ms/step - loss: 0.1102 - accuracy: 0.9707\n",
      "Epoch 21/25\n",
      "36/36 [==============================] - 1s 36ms/step - loss: 0.0875 - accuracy: 0.9787\n",
      "Epoch 22/25\n",
      "36/36 [==============================] - 1s 35ms/step - loss: 0.0704 - accuracy: 0.9813\n",
      "Epoch 23/25\n",
      "36/36 [==============================] - 1s 35ms/step - loss: 0.0448 - accuracy: 0.9938\n",
      "Epoch 24/25\n",
      "36/36 [==============================] - 1s 35ms/step - loss: 0.1128 - accuracy: 0.9769\n",
      "Epoch 25/25\n",
      "36/36 [==============================] - 1s 35ms/step - loss: 0.0770 - accuracy: 0.9822\n",
      "10/10 [==============================] - 0s 27ms/step\n"
     ]
    }
   ],
   "source": [
    "# this cell is to export a .csv file to submit (filename & predicted label) \n",
    "model = build_cnn((X_train.shape[1], X_train.shape[2], 1), num_classes)\n",
    "model.compile(optimizer='adam', loss='categorical_crossentropy', metrics=['accuracy'])\n",
    "\n",
    "\n",
    "model.fit(X_train, y_train_ohe, batch_size=32, epochs=25)\n",
    "y_predicted = model.predict(X_test)\n",
    "\n"
   ]
  },
  {
   "cell_type": "code",
   "execution_count": 58,
   "metadata": {
    "executionInfo": {
     "elapsed": 524,
     "status": "ok",
     "timestamp": 1682654013263,
     "user": {
      "displayName": "Zhongqi Gao",
      "userId": "11577090512157430756"
     },
     "user_tz": 300
    },
    "id": "Zv1Acem80Yrs"
   },
   "outputs": [],
   "source": [
    "\n",
    "y_predicted_ohv = np.argmax(y_predicted, axis = 1)\n"
   ]
  },
  {
   "cell_type": "code",
   "execution_count": 59,
   "metadata": {
    "colab": {
     "base_uri": "https://localhost:8080/"
    },
    "executionInfo": {
     "elapsed": 2,
     "status": "ok",
     "timestamp": 1682654014687,
     "user": {
      "displayName": "Zhongqi Gao",
      "userId": "11577090512157430756"
     },
     "user_tz": 300
    },
    "id": "gf0h_tfGKCGV",
    "outputId": "c627c268-b955-47e0-e5e9-bccbc7a5cd7c"
   },
   "outputs": [
    {
     "name": "stdout",
     "output_type": "stream",
     "text": [
      "[1 6 6 1 1 4 1 0 6 2 7 2 2 2 6 6 6 2 1 2 7 1 5 6 0 1 1 1 7 0 5 5 6 1 0 0 6\n",
      " 6 5 0 3 2 1 2 2 1 6 2 2 5 1 2 2 0 1 1 7 5 6 3 7 3 6 3 4 6 2 0 6 0 3 2 6 7\n",
      " 1 7 7 2 6 6 5 7 6 7 3 4 6 2 7 6 3 7 6 6 1 7 2 1 1 3 2 1 6 1 1 7 6 1 1 4 6\n",
      " 1 1 6 4 7 3 6 3 0 2 2 7 7 7 7 6 3 7 1 7 7 7 7 0 7 4 6 4 6 2 1 2 0 6 7 3 1\n",
      " 7 4 5 7 6 0 3 6 3 4 7 6 5 3 1 7 1 1 1 7 6 6 3 1 3 7 4 0 7 7 1 1 2 3 7 1 2\n",
      " 5 6 7 6 0 7 1 7 6 7 3 3 6 3 2 7 1 4 0 6 1 7 6 7 1 1 1 7 1 4 5 7 1 2 1 3 1\n",
      " 4 3 6 1 1 2 6 6 6 3 7 6 6 6 6 1 1 5 3 7 4 1 6 1 3 7 0 3 5 7 4 2 7 0 4 2 3\n",
      " 6 6 7 7 1 7 2 7 6 7 7 0 3 2 3 6 6 7 7 1 4 5 1 4 4 1 2 0 7 6 6 6 1 5 7 6 5\n",
      " 1 2 1 1 1 7 1 2 3 7 5 6 7 7 1 3 0 1 2]\n",
      "['calm', 'sad', 'sad', 'calm', 'calm', 'happy', 'calm', 'angry', 'sad', 'disgust', 'surprised', 'disgust', 'disgust', 'disgust', 'sad', 'sad', 'sad', 'disgust', 'calm', 'disgust', 'surprised', 'calm', 'neutral', 'sad', 'angry', 'calm', 'calm', 'calm', 'surprised', 'angry', 'neutral', 'neutral', 'sad', 'calm', 'angry', 'angry', 'sad', 'sad', 'neutral', 'angry', 'fearful', 'disgust', 'calm', 'disgust', 'disgust', 'calm', 'sad', 'disgust', 'disgust', 'neutral', 'calm', 'disgust', 'disgust', 'angry', 'calm', 'calm', 'surprised', 'neutral', 'sad', 'fearful', 'surprised', 'fearful', 'sad', 'fearful', 'happy', 'sad', 'disgust', 'angry', 'sad', 'angry', 'fearful', 'disgust', 'sad', 'surprised', 'calm', 'surprised', 'surprised', 'disgust', 'sad', 'sad', 'neutral', 'surprised', 'sad', 'surprised', 'fearful', 'happy', 'sad', 'disgust', 'surprised', 'sad', 'fearful', 'surprised', 'sad', 'sad', 'calm', 'surprised', 'disgust', 'calm', 'calm', 'fearful', 'disgust', 'calm', 'sad', 'calm', 'calm', 'surprised', 'sad', 'calm', 'calm', 'happy', 'sad', 'calm', 'calm', 'sad', 'happy', 'surprised', 'fearful', 'sad', 'fearful', 'angry', 'disgust', 'disgust', 'surprised', 'surprised', 'surprised', 'surprised', 'sad', 'fearful', 'surprised', 'calm', 'surprised', 'surprised', 'surprised', 'surprised', 'angry', 'surprised', 'happy', 'sad', 'happy', 'sad', 'disgust', 'calm', 'disgust', 'angry', 'sad', 'surprised', 'fearful', 'calm', 'surprised', 'happy', 'neutral', 'surprised', 'sad', 'angry', 'fearful', 'sad', 'fearful', 'happy', 'surprised', 'sad', 'neutral', 'fearful', 'calm', 'surprised', 'calm', 'calm', 'calm', 'surprised', 'sad', 'sad', 'fearful', 'calm', 'fearful', 'surprised', 'happy', 'angry', 'surprised', 'surprised', 'calm', 'calm', 'disgust', 'fearful', 'surprised', 'calm', 'disgust', 'neutral', 'sad', 'surprised', 'sad', 'angry', 'surprised', 'calm', 'surprised', 'sad', 'surprised', 'fearful', 'fearful', 'sad', 'fearful', 'disgust', 'surprised', 'calm', 'happy', 'angry', 'sad', 'calm', 'surprised', 'sad', 'surprised', 'calm', 'calm', 'calm', 'surprised', 'calm', 'happy', 'neutral', 'surprised', 'calm', 'disgust', 'calm', 'fearful', 'calm', 'happy', 'fearful', 'sad', 'calm', 'calm', 'disgust', 'sad', 'sad', 'sad', 'fearful', 'surprised', 'sad', 'sad', 'sad', 'sad', 'calm', 'calm', 'neutral', 'fearful', 'surprised', 'happy', 'calm', 'sad', 'calm', 'fearful', 'surprised', 'angry', 'fearful', 'neutral', 'surprised', 'happy', 'disgust', 'surprised', 'angry', 'happy', 'disgust', 'fearful', 'sad', 'sad', 'surprised', 'surprised', 'calm', 'surprised', 'disgust', 'surprised', 'sad', 'surprised', 'surprised', 'angry', 'fearful', 'disgust', 'fearful', 'sad', 'sad', 'surprised', 'surprised', 'calm', 'happy', 'neutral', 'calm', 'happy', 'happy', 'calm', 'disgust', 'angry', 'surprised', 'sad', 'sad', 'sad', 'calm', 'neutral', 'surprised', 'sad', 'neutral', 'calm', 'disgust', 'calm', 'calm', 'calm', 'surprised', 'calm', 'disgust', 'fearful', 'surprised', 'neutral', 'sad', 'surprised', 'surprised', 'calm', 'fearful', 'angry', 'calm', 'disgust']\n"
     ]
    }
   ],
   "source": [
    "print(y_predicted_ohv)\n",
    "label_map = {'angry': 0, 'calm': 1, 'disgust': 2, 'fearful': 3, 'happy': 4, 'neutral': 5, 'sad': 6, 'surprised': 7}\n",
    "\n",
    "def dict_search(dictionary, value):\n",
    "    for key, val in dictionary.items():\n",
    "        if val == value:\n",
    "            return key\n",
    "\n",
    "y_predicted_label = []\n",
    "for i in y_predicted_ohv: \n",
    "    val = dict_search(label_map, i)\n",
    "    y_predicted_label.append(val)\n",
    "\n",
    "\n",
    "print(y_predicted_label)"
   ]
  },
  {
   "cell_type": "code",
   "execution_count": 61,
   "metadata": {
    "executionInfo": {
     "elapsed": 306,
     "status": "ok",
     "timestamp": 1682654042851,
     "user": {
      "displayName": "Zhongqi Gao",
      "userId": "11577090512157430756"
     },
     "user_tz": 300
    },
    "id": "kyxLuEdLzww7"
   },
   "outputs": [],
   "source": [
    "import csv\n",
    "\n",
    "def make_csv(unlabeled_file_name, y_predicted_label):\n",
    "  with open('prediction.csv', mode='w', newline='') as file:\n",
    "      writer = csv.writer(file)\n",
    "      writer.writerow(['filename', 'label'])\n",
    "      for i in range(len(unlabeled_file_name)):\n",
    "        writer.writerow([unlabeled_file_name[i], y_predicted_label[i]])\n",
    "  file.close()\n",
    "\n",
    "make_csv(y_test, y_predicted_label)"
   ]
  }
 ],
 "metadata": {
  "accelerator": "GPU",
  "colab": {
   "provenance": []
  },
  "gpuClass": "standard",
  "kernelspec": {
   "display_name": "Python 3 (ipykernel)",
   "language": "python",
   "name": "python3"
  },
  "language_info": {
   "codemirror_mode": {
    "name": "ipython",
    "version": 3
   },
   "file_extension": ".py",
   "mimetype": "text/x-python",
   "name": "python",
   "nbconvert_exporter": "python",
   "pygments_lexer": "ipython3",
   "version": "3.10.9"
  }
 },
 "nbformat": 4,
 "nbformat_minor": 1
}
